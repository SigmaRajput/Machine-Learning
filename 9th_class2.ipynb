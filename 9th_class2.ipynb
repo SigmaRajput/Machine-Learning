{
 "cells": [
  {
   "cell_type": "code",
   "execution_count": 4,
   "metadata": {},
   "outputs": [],
   "source": [
    "from sklearn.datasets import make_regression\n",
    "import numpy as np\n",
    "import matplotlib.pyplot as plt"
   ]
  },
  {
   "cell_type": "code",
   "execution_count": 7,
   "metadata": {},
   "outputs": [],
   "source": [
    "x,y = make_regression(n_samples=100, n_features=1, n_informative=1,n_targets=1,noise=80)"
   ]
  },
  {
   "cell_type": "code",
   "execution_count": 8,
   "metadata": {},
   "outputs": [
    {
     "data": {
      "text/plain": [
       "<matplotlib.collections.PathCollection at 0x21647b216d0>"
      ]
     },
     "execution_count": 8,
     "metadata": {},
     "output_type": "execute_result"
    },
    {
     "data": {
      "image/png": "[encoded data removed]",
      "text/plain": [
       "<Figure size 432x288 with 1 Axes>"
      ]
     },
     "metadata": {
      "needs_background": "light"
     },
     "output_type": "display_data"
    }
   ],
   "source": [
    "plt.scatter(x,y)"
   ]
  },
  {
   "cell_type": "code",
   "execution_count": 10,
   "metadata": {},
   "outputs": [],
   "source": [
    "from sklearn.linear_model import LinearRegression"
   ]
  },
  {
   "cell_type": "code",
   "execution_count": 11,
   "metadata": {},
   "outputs": [],
   "source": [
    "lr= LinearRegression()"
   ]
  },
  {
   "cell_type": "code",
   "execution_count": 12,
   "metadata": {},
   "outputs": [
    {
     "name": "stdout",
     "output_type": "stream",
     "text": [
      "[55.39237643]\n",
      "-4.222074990603256\n"
     ]
    }
   ],
   "source": [
    "lr.fit(x,y)\n",
    "print(lr.coef_)\n",
    "print(lr.intercept_)"
   ]
  },
  {
   "cell_type": "code",
   "execution_count": 13,
   "metadata": {},
   "outputs": [],
   "source": [
    "m=55.39"
   ]
  },
  {
   "cell_type": "code",
   "execution_count": 29,
   "metadata": {},
   "outputs": [],
   "source": [
    "class gdregressor:\n",
    "    \n",
    "    def __init__(self,learning_rate,epochs):\n",
    "        self.m=55.39\n",
    "        self.b=-120\n",
    "        self.lr=learning_rate\n",
    "        self.epochs=epochs\n",
    "        \n",
    "    def fit(self,x,y):\n",
    "        #calcuating b using GD\n",
    "        for i in range(self.epochs):\n",
    "            loss_slope= -2*np.sum(y - self.m*x.ravel() - self.b)\n",
    "            self.b=self.b - (self.lr* loss_slope)\n",
    "            print(loss_slope)\n",
    "            print(self.b)\n",
    "        print(self.b)\n",
    "    "
   ]
  },
  {
   "cell_type": "code",
   "execution_count": 32,
   "metadata": {},
   "outputs": [],
   "source": [
    "gd=gdregressor(0.001,100)"
   ]
  },
  {
   "cell_type": "code",
   "execution_count": 33,
   "metadata": {},
   "outputs": [
    {
     "name": "stdout",
     "output_type": "stream",
     "text": [
      "-23155.578307561893\n",
      "-96.8444216924381\n",
      "-18524.462646049513\n",
      "-78.31995904638859\n",
      "-14819.570116839606\n",
      "-63.50038892954898\n",
      "-11855.656093471685\n",
      "-51.644732836077296\n",
      "-9484.524874777346\n",
      "-42.160207961299946\n",
      "-7587.619899821877\n",
      "-34.57258806147807\n",
      "-6070.095919857503\n",
      "-28.502492141620568\n",
      "-4856.076735886002\n",
      "-23.646415405734565\n",
      "-3884.8613887088004\n",
      "-19.761554017025766\n",
      "-3107.889110967041\n",
      "-16.653664906058726\n",
      "-2486.311288773633\n",
      "-14.167353617285093\n",
      "-1989.0490310189064\n",
      "-12.178304586266187\n",
      "-1591.2392248151252\n",
      "-10.587065361451062\n",
      "-1272.9913798521002\n",
      "-9.314073981598963\n",
      "-1018.3931038816806\n",
      "-8.295680877717281\n",
      "-814.7144831053445\n",
      "-7.4809663946119365\n",
      "-651.771586484275\n",
      "-6.829194808127662\n",
      "-521.4172691874203\n",
      "-6.3077775389402415\n",
      "-417.13381534993573\n",
      "-5.890643723590306\n",
      "-333.707052279949\n",
      "-5.556936671310357\n",
      "-266.9656418239591\n",
      "-5.289971029486398\n",
      "-213.57251345916734\n",
      "-5.07639851602723\n",
      "-170.85801076733384\n",
      "-4.905540505259896\n",
      "-136.6864086138667\n",
      "-4.76885409664603\n",
      "-109.34912689109346\n",
      "-4.659504969754937\n",
      "-87.4793015128752\n",
      "-4.572025668242062\n",
      "-69.98344121030019\n",
      "-4.502042227031762\n",
      "-55.98675296824047\n",
      "-4.446055474063521\n",
      "-44.78940237459241\n",
      "-4.401266071688929\n",
      "-35.831521899673476\n",
      "-4.3654345497892555\n",
      "-28.665217519739173\n",
      "-4.336769332269516\n",
      "-22.932174015791077\n",
      "-4.313837158253725\n",
      "-18.34573921263248\n",
      "-4.295491419041093\n",
      "-14.676591370106678\n",
      "-4.280814827670986\n",
      "-11.741273096084797\n",
      "-4.269073554574901\n",
      "-9.393018476868207\n",
      "-4.259680536098033\n",
      "-7.514414781494594\n",
      "-4.252166121316538\n",
      "-6.011531825195249\n",
      "-4.246154589491343\n",
      "-4.809225460156057\n",
      "-4.2413453640311864\n",
      "-3.8473803681253287\n",
      "-4.2374979836630615\n",
      "-3.0779042944998594\n",
      "-4.234420079368562\n",
      "-2.462323435600382\n",
      "-4.231957755932961\n",
      "-1.9698587484803056\n",
      "-4.229987897184481\n",
      "-1.5758869987842559\n",
      "-4.228412010185696\n",
      "-1.2607095990269102\n",
      "-4.227151300586669\n",
      "-1.0085676792215565\n",
      "-4.226142732907448\n",
      "-0.8068541433775351\n",
      "-4.225335878764071\n",
      "-0.6454833147024317\n",
      "-4.224690395449368\n",
      "-0.5163866517614508\n",
      "-4.224174008797607\n",
      "-0.41310932140916634\n",
      "-4.223760899476198\n",
      "-0.3304874571274752\n",
      "-4.223430412019071\n",
      "-0.2643899657018949\n",
      "-4.223166022053369\n",
      "-0.21151197256165233\n",
      "-4.2229545100808075\n",
      "-0.1692095780493048\n",
      "-4.222785300502758\n",
      "-0.1353676624397906\n",
      "-4.222649932840318\n",
      "-0.10829412995133225\n",
      "-4.222541638710367\n",
      "-0.08663530396134433\n",
      "-4.222455003406406\n",
      "-0.0693082431689902\n",
      "-4.222385695163237\n",
      "-0.05544659453559575\n",
      "-4.222330248568702\n",
      "-0.04435727562784564\n",
      "-4.222285891293074\n",
      "-0.035485820502572096\n",
      "-4.222250405472572\n",
      "-0.028388656402569268\n",
      "-4.222222016816169\n",
      "-0.022710925122112258\n",
      "-4.222199305891047\n",
      "-0.01816874009756475\n",
      "-4.22218113715095\n",
      "-0.014534992077926745\n",
      "-4.222166602158873\n",
      "-0.011627993662642666\n",
      "-4.22215497416521\n",
      "-0.009302394929278535\n",
      "-4.2221456717702806\n",
      "-0.00744191594353083\n",
      "-4.222138229854337\n",
      "-0.0059535327548303485\n",
      "-4.222132276321582\n",
      "-0.004762826204000703\n",
      "-4.222127513495378\n",
      "-0.0038102609635473073\n",
      "-4.2221237032344145\n",
      "-0.00304820877110501\n",
      "-4.222120655025644\n",
      "-0.0024385670165258944\n",
      "-4.222118216458627\n",
      "-0.0019508536129535514\n",
      "-4.222116265605014\n",
      "-0.0015606828906413739\n",
      "-4.222114704922124\n",
      "-0.0012485463120981422\n",
      "-4.222113456375812\n",
      "-0.0009988370499911525\n",
      "-4.222112457538762\n",
      "-0.0007990696399531316\n",
      "-4.222111658469122\n",
      "-0.0006392557121444042\n",
      "-4.2221110192134095\n",
      "-0.0005114045696075209\n",
      "-4.22211050780884\n",
      "-0.0004091236556007516\n",
      "-4.222110098685184\n",
      "-0.0003272989243043867\n",
      "-4.22210977138626\n",
      "-0.00026183913954014315\n",
      "-4.222109509547121\n",
      "-0.0002094713118196978\n",
      "-4.222109300075809\n",
      "-0.00016757704977976573\n",
      "-4.222109132498759\n",
      "-0.00013406163955664852\n",
      "-4.22210899843712\n",
      "-0.00010724931169647789\n",
      "-4.222108891187808\n",
      "-8.579944920938942e-05\n",
      "-4.222108805388359\n",
      "-6.863955982794323e-05\n",
      "-4.222108736748799\n",
      "-5.4911647680455644e-05\n",
      "-4.222108681837152\n",
      "-4.392931785446308e-05\n",
      "-4.222108637907834\n",
      "-3.514345482358294e-05\n",
      "-4.222108602764378\n",
      "-2.811476363717702e-05\n",
      "-4.2221085746496145\n",
      "-2.249181079605478e-05\n",
      "-4.2221085521578035\n",
      "-1.799344877895237e-05\n",
      "-4.222108534164355\n",
      "-1.4394758665048357e-05\n",
      "-4.222108519769597\n",
      "-1.1515807045725523e-05\n",
      "-4.22210850825379\n",
      "-9.212646148171189e-06\n",
      "-4.222108499041144\n",
      "-7.370116264837634e-06\n",
      "-4.222108491671028\n",
      "-5.896093199453389e-06\n",
      "-4.2221084857749345\n",
      "-4.2221084857749345\n"
     ]
    }
   ],
   "source": [
    "gd.fit(x,y)"
   ]
  },
  {
   "cell_type": "code",
   "execution_count": null,
   "metadata": {},
   "outputs": [],
   "source": []
  }
 ],
 "metadata": {
  "kernelspec": {
   "display_name": "Python 3",
   "language": "python",
   "name": "python3"
  },
  "language_info": {
   "codemirror_mode": {
    "name": "ipython",
    "version": 3
   },
   "file_extension": ".py",
   "mimetype": "text/x-python",
   "name": "python",
   "nbconvert_exporter": "python",
   "pygments_lexer": "ipython3",
   "version": "3.8.5"
  }
 },
 "nbformat": 4,
 "nbformat_minor": 4
}

{
  "cells": [
    {
      "cell_type": "markdown",
      "metadata": {
        "id": "view-in-github",
        "colab_type": "text"
      },
      "source": [
        "<a href=\"https://colab.research.google.com/github/SigmaRajput/Machine-Learning/blob/master/stochastic_gradiant_decendent.ipynb\" target=\"_parent\"><img src=\"https://colab.research.google.com/assets/colab-badge.svg\" alt=\"Open In Colab\"/></a>"
      ]
    },
    {
      "cell_type": "code",
      "execution_count": null,
      "metadata": {
        "id": "PV7RuYs9yuEg"
      },
      "outputs": [],
      "source": [
        "from sklearn.datasets import load_diabetes\n",
        "\n",
        "import numpy as np\n",
        "from sklearn.linear_model import LinearRegression\n",
        "from sklearn.metrics import r2_score\n",
        "from sklearn.model_selection import train_test_split"
      ]
    },
    {
      "cell_type": "code",
      "execution_count": null,
      "metadata": {
        "id": "yKiepQq-yzXf"
      },
      "outputs": [],
      "source": [
        "x,y = load_diabetes(return_X_y = True)"
      ]
    },
    {
      "cell_type": "code",
      "execution_count": null,
      "metadata": {
        "colab": {
          "base_uri": "https://localhost:8080/"
        },
        "id": "WKJB-eR1-Ehe",
        "outputId": "6ecff38a-1130-47c0-da1a-0e2c606b24cf"
      },
      "outputs": [
        {
          "name": "stdout",
          "output_type": "stream",
          "text": [
            "(442, 10)\n",
            "(442,)\n"
          ]
        }
      ],
      "source": [
        "print(x.shape)\n",
        "print(y.shape)"
      ]
    },
    {
      "cell_type": "code",
      "execution_count": null,
      "metadata": {
        "id": "DrhoU-Dr-FUD"
      },
      "outputs": [],
      "source": [
        "x_train,x_test,y_train,y_test=train_test_split(x,y,test_size=0.2, random_state=2)"
      ]
    },
    {
      "cell_type": "code",
      "execution_count": null,
      "metadata": {
        "colab": {
          "base_uri": "https://localhost:8080/"
        },
        "id": "XrZ9msr0-JTw",
        "outputId": "a1a75e8a-72fd-413e-dea3-9c6eda18ae80"
      },
      "outputs": [
        {
          "data": {
            "text/plain": [
              "LinearRegression()"
            ]
          },
          "execution_count": 6,
          "metadata": {},
          "output_type": "execute_result"
        }
      ],
      "source": [
        "reg = LinearRegression()\n",
        "reg.fit(x_train,y_train)"
      ]
    },
    {
      "cell_type": "code",
      "execution_count": null,
      "metadata": {
        "colab": {
          "base_uri": "https://localhost:8080/"
        },
        "id": "t_G78BLI-ME_",
        "outputId": "ea3cf6e7-1c28-42d7-96cf-a27be869842a"
      },
      "outputs": [
        {
          "name": "stdout",
          "output_type": "stream",
          "text": [
            "[  -9.16088483 -205.46225988  516.68462383  340.62734108 -895.54360867\n",
            "  561.21453306  153.88478595  126.73431596  861.12139955   52.41982836]\n",
            "151.88334520854633\n"
          ]
        }
      ],
      "source": [
        "print(reg.coef_)\n",
        "print(reg.intercept_)"
      ]
    },
    {
      "cell_type": "code",
      "execution_count": null,
      "metadata": {
        "colab": {
          "base_uri": "https://localhost:8080/"
        },
        "id": "fqVF_xuz-P5p",
        "outputId": "cd854e11-13c0-47b5-a3b9-3479c2a23ab2"
      },
      "outputs": [
        {
          "data": {
            "text/plain": [
              "0.4399387660024645"
            ]
          },
          "execution_count": 8,
          "metadata": {},
          "output_type": "execute_result"
        }
      ],
      "source": [
        "y_pred = reg.predict(x_test)\n",
        "r2_score(y_test, y_pred)"
      ]
    },
    {
      "cell_type": "code",
      "execution_count": null,
      "metadata": {
        "id": "P9ZAu8vt-Sz_"
      },
      "outputs": [],
      "source": [
        "class mgd:\n",
        "  def __init__(self,learning_rate = 0.01, epochs =100):\n",
        "    self.coef = None\n",
        "    self.intercept = None\n",
        "    self.lr = learning_rate\n",
        "    self.epochs = epochs  \n",
        "\n",
        "  def fit(self,x_train, y_train):\n",
        "    self.intercept_=0\n",
        "    self.coef_ = np.ones(x_train.shape[1])\n",
        "    for i in range(self.epochs):\n",
        "      for j in range(x_train.shape[0]):\n",
        "        idx = np.random.randint(0,x_train.shape[0])\n",
        "        y_hat= np.dot(x_train[idx],self.coef_)+ self.intercept_\n",
        "\n",
        "        intercept_der = -2 * (y_train[idx]-y_hat)\n",
        "        self.intercept_ = self.intercept_ -(self.lr*intercept_der)\n",
        "        \n",
        "        coef_der = -2*np.dot((y_train[idx]-y_hat),x_train[idx])\n",
        "        self.coef_ = self.coef_ - (self.lr* coef_der)\n",
        "      \n",
        "    print(self.intercept_,self.coef_)\n",
        "\n",
        "  def predict(self, x_test):\n",
        "    return np.dot(x_test,self.coef_) + self.intercept_\n"
      ]
    },
    {
      "cell_type": "code",
      "execution_count": null,
      "metadata": {
        "colab": {
          "base_uri": "https://localhost:8080/"
        },
        "id": "-cU9z5yf_PQj",
        "outputId": "3513c9cb-5fc0-4773-d3e2-78ac2287c4b2"
      },
      "outputs": [
        {
          "output_type": "execute_result",
          "data": {
            "text/plain": [
              "159"
            ]
          },
          "metadata": {},
          "execution_count": 69
        }
      ],
      "source": [
        "np.random.randint(0,x_train.shape[0])"
      ]
    },
    {
      "cell_type": "code",
      "execution_count": null,
      "metadata": {
        "colab": {
          "base_uri": "https://localhost:8080/"
        },
        "id": "KhMJUjFd_128",
        "outputId": "97069714-3c01-49f5-9084-5049241a4d2b"
      },
      "outputs": [
        {
          "output_type": "execute_result",
          "data": {
            "text/plain": [
              "array([ 0.06713621,  0.05068012, -0.02560657, -0.04009932, -0.06348684,\n",
              "       -0.05987264, -0.00290283, -0.03949338, -0.01919705,  0.01134862])"
            ]
          },
          "metadata": {},
          "execution_count": 70
        }
      ],
      "source": [
        "x_train[159]"
      ]
    },
    {
      "cell_type": "code",
      "execution_count": null,
      "metadata": {
        "id": "IpTNwVe0ATgk"
      },
      "outputs": [],
      "source": [
        "coef_=np.ones(x_train.shape[1])"
      ]
    },
    {
      "cell_type": "code",
      "execution_count": null,
      "metadata": {
        "id": "A4BIwan3AZ14"
      },
      "outputs": [],
      "source": [
        "intercept_ = 0"
      ]
    },
    {
      "cell_type": "code",
      "execution_count": null,
      "metadata": {
        "colab": {
          "base_uri": "https://localhost:8080/"
        },
        "id": "MDJUKwfQAeCO",
        "outputId": "2dc672fc-d8c1-4a1f-b231-c5754fc65937"
      },
      "outputs": [
        {
          "output_type": "execute_result",
          "data": {
            "text/plain": [
              "-0.0"
            ]
          },
          "metadata": {},
          "execution_count": 65
        }
      ],
      "source": [
        "np.dot(x_train[142],coef_)*intercept_"
      ]
    },
    {
      "cell_type": "code",
      "execution_count": null,
      "metadata": {
        "id": "NbrzR79E-VhW"
      },
      "outputs": [],
      "source": [
        "sgd =mgd(learning_rate = 0.0, epochs=50)"
      ]
    },
    {
      "cell_type": "code",
      "execution_count": null,
      "metadata": {
        "colab": {
          "base_uri": "https://localhost:8080/"
        },
        "id": "wOapz6og-gsm",
        "outputId": "84e3d437-8953-40f2-9636-0b86528799f9"
      },
      "outputs": [
        {
          "output_type": "stream",
          "name": "stdout",
          "text": [
            "0.0 [1. 1. 1. 1. 1. 1. 1. 1. 1. 1.]\n"
          ]
        }
      ],
      "source": [
        "sgd.fit(x_train,y_train)"
      ]
    },
    {
      "cell_type": "code",
      "execution_count": null,
      "metadata": {
        "id": "3t5y1susC2k_",
        "colab": {
          "base_uri": "https://localhost:8080/"
        },
        "outputId": "2c7a7f8b-8d2b-4b89-9f42-4d12fbbd52c8"
      },
      "outputs": [
        {
          "output_type": "execute_result",
          "data": {
            "text/plain": [
              "0.4399387660024645"
            ]
          },
          "metadata": {},
          "execution_count": 75
        }
      ],
      "source": [
        "y_pred = reg.predict(x_test)\n",
        "r2_score(y_test, y_pred)"
      ]
    }
  ],
  "metadata": {
    "colab": {
      "name": "stochastic_gradiant_decendent.ipynb",
      "provenance": [],
      "authorship_tag": "ABX9TyOavwpJPOZ/7+SPTPR3+nOB",
      "include_colab_link": true
    },
    "kernelspec": {
      "display_name": "Python 3",
      "name": "python3"
    },
    "language_info": {
      "name": "python"
    }
  },
  "nbformat": 4,
  "nbformat_minor": 0
}
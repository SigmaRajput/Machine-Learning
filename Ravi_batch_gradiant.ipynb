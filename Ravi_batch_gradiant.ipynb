{
  "cells": [
    {
      "cell_type": "markdown",
      "metadata": {
        "id": "view-in-github",
        "colab_type": "text"
      },
      "source": [
        "<a href=\"https://colab.research.google.com/github/SigmaRajput/Machine-Learning/blob/master/Ravi_batch_gradiant.ipynb\" target=\"_parent\"><img src=\"https://colab.research.google.com/assets/colab-badge.svg\" alt=\"Open In Colab\"/></a>"
      ]
    },
    {
      "cell_type": "code",
      "execution_count": null,
      "metadata": {
        "id": "swSnynWjeg_8"
      },
      "outputs": [],
      "source": [
        "from sklearn.datasets import load_diabetes\n",
        "\n",
        "import numpy as np\n",
        "from sklearn.linear_model import LinearRegression\n",
        "from sklearn.metrics import r2_score\n",
        "from sklearn.model_selection import train_test_split"
      ]
    },
    {
      "cell_type": "code",
      "execution_count": null,
      "metadata": {
        "id": "nXWuQUCkgrBr"
      },
      "outputs": [],
      "source": [
        "x,y = load_diabetes(return_X_y = True)"
      ]
    },
    {
      "cell_type": "code",
      "execution_count": null,
      "metadata": {
        "colab": {
          "base_uri": "https://localhost:8080/"
        },
        "id": "prki_mopjUX7",
        "outputId": "6e774c54-583e-4ad4-bec4-f9b43246491e"
      },
      "outputs": [
        {
          "output_type": "stream",
          "name": "stdout",
          "text": [
            "(442, 10)\n",
            "(442,)\n"
          ]
        }
      ],
      "source": [
        "print(x.shape)\n",
        "print(y.shape)"
      ]
    },
    {
      "cell_type": "code",
      "execution_count": null,
      "metadata": {
        "id": "Mh5QTgwkhQas"
      },
      "outputs": [],
      "source": [
        "x_train,x_test,y_train,y_test=train_test_split(x,y,test_size=0.2, random_state=2)"
      ]
    },
    {
      "cell_type": "code",
      "execution_count": null,
      "metadata": {
        "colab": {
          "base_uri": "https://localhost:8080/"
        },
        "id": "aw2r3uafg7UM",
        "outputId": "b14f55b6-7eee-4e39-8a50-95d54958b559"
      },
      "outputs": [
        {
          "output_type": "execute_result",
          "data": {
            "text/plain": [
              "LinearRegression()"
            ]
          },
          "metadata": {},
          "execution_count": 5
        }
      ],
      "source": [
        "reg = LinearRegression()\n",
        "reg.fit(x_train,y_train)"
      ]
    },
    {
      "cell_type": "code",
      "execution_count": null,
      "metadata": {
        "colab": {
          "base_uri": "https://localhost:8080/"
        },
        "id": "_UsNDdaLh1Ua",
        "outputId": "3d75fe53-043e-4f47-ab87-6e375eac6fa2"
      },
      "outputs": [
        {
          "output_type": "stream",
          "name": "stdout",
          "text": [
            "[  -9.16088483 -205.46225988  516.68462383  340.62734108 -895.54360867\n",
            "  561.21453306  153.88478595  126.73431596  861.12139955   52.41982836]\n",
            "151.88334520854633\n"
          ]
        }
      ],
      "source": [
        "print(reg.coef_)\n",
        "print(reg.intercept_)"
      ]
    },
    {
      "cell_type": "code",
      "execution_count": null,
      "metadata": {
        "colab": {
          "base_uri": "https://localhost:8080/"
        },
        "id": "q5cuUbcyiBFk",
        "outputId": "b694200a-8557-48ac-fd61-3b29b84f11e6"
      },
      "outputs": [
        {
          "output_type": "execute_result",
          "data": {
            "text/plain": [
              "0.4399387660024645"
            ]
          },
          "metadata": {},
          "execution_count": 7
        }
      ],
      "source": [
        "y_pred = reg.predict(x_test)\n",
        "r2_score(y_test, y_pred)"
      ]
    },
    {
      "cell_type": "code",
      "execution_count": null,
      "metadata": {
        "id": "Pv1LPvpXiSTP"
      },
      "outputs": [],
      "source": [
        "class mgd:\n",
        "  def __init__(self,learning_rate = 0.01, epochs =100):\n",
        "    self.coef = None\n",
        "    self.intercept = None\n",
        "    self.lr = learning_rate\n",
        "    self.epochs = epochs  \n",
        "\n",
        "  def fit(self,x_train, y_train):\n",
        "    self.intercept_=0\n",
        "    self.coef_ = np.ones(x_train.shape[1])\n",
        "    for i in range(self.epochs):\n",
        "      y_hat= np.dot(x_train,self.coef_)+ self.intercept_\n",
        "      #print(y_hat.shape)\n",
        "      intercept_der = -2 * np.mean(y_train-y_hat)\n",
        "      self.intercept_ = self.intercept_ -(self.lr*intercept_der)\n",
        "      \n",
        "      coef_der = -2*np.dot((y_train-y_hat),x_train)/x_train.shape[0]\n",
        "      self.coef_ = self.coef_ - (self.lr* coef_der)\n",
        "    print(self.intercept_,self.coef_)\n",
        "\n",
        "  def predict(self, x_test):\n",
        "    return np.dot(x_test,self.coef_) + self.intercept_\n"
      ]
    },
    {
      "cell_type": "code",
      "execution_count": null,
      "metadata": {
        "id": "PH3978askdl2"
      },
      "outputs": [],
      "source": [
        "gd =mgd(epochs=100)"
      ]
    },
    {
      "cell_type": "code",
      "execution_count": null,
      "metadata": {
        "colab": {
          "base_uri": "https://localhost:8080/"
        },
        "id": "14X92ohWkhu_",
        "outputId": "ea2d62c4-dbd3-44ab-c748-ded47090e2ea"
      },
      "outputs": [
        {
          "output_type": "stream",
          "name": "stdout",
          "text": [
            "130.5289694245351 [ 2.63772235  1.19060609  5.06046251  4.31378209  2.44715571  1.99246126\n",
            " -1.48838841  3.60218118  5.24194016  3.51394805]\n"
          ]
        }
      ],
      "source": [
        "gd.fit(x_train,y_train)"
      ]
    },
    {
      "cell_type": "code",
      "execution_count": null,
      "metadata": {
        "id": "DfAQQns3sxDT"
      },
      "outputs": [],
      "source": [
        "y_pred = gd.predict(x_test)"
      ]
    },
    {
      "cell_type": "code",
      "execution_count": null,
      "metadata": {
        "id": "o6NMCGTFsrP9",
        "colab": {
          "base_uri": "https://localhost:8080/"
        },
        "outputId": "2ff304f9-a6d6-4609-9858-a2284a5d9106"
      },
      "outputs": [
        {
          "output_type": "execute_result",
          "data": {
            "text/plain": [
              "-0.12800130668770504"
            ]
          },
          "metadata": {},
          "execution_count": 12
        }
      ],
      "source": [
        "r2_score(y_test,y_pred)"
      ]
    }
  ],
  "metadata": {
    "colab": {
      "collapsed_sections": [],
      "name": "Ravi_batch_gradiant.ipynb",
      "provenance": [],
      "authorship_tag": "ABX9TyOt750E5aa3kKmjIepWbJyp",
      "include_colab_link": true
    },
    "kernelspec": {
      "display_name": "Python 3",
      "name": "python3"
    },
    "language_info": {
      "name": "python"
    }
  },
  "nbformat": 4,
  "nbformat_minor": 0
}